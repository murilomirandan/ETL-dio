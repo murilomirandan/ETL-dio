{
 "cells": [
  {
   "cell_type": "markdown",
   "metadata": {},
   "source": [
    "# Load from CSV file"
   ]
  },
  {
   "cell_type": "code",
   "execution_count": 39,
   "metadata": {},
   "outputs": [
    {
     "name": "stdout",
     "output_type": "stream",
     "text": [
      "  group  attr1  attr2\n",
      "0     A     20     13\n",
      "1     A     15     12\n",
      "2     A     25     10\n",
      "3     A     18     15\n",
      "4     B     15      9\n",
      "5     B     13     10\n",
      "6     B     12     10\n",
      "7     B     11      9\n"
     ]
    }
   ],
   "source": [
    "import pandas as pd\n",
    "from plotnine import ggplot, aes, geom_bar\n",
    "\n",
    "df = pd.read_csv('data.csv')\n",
    "print(df)"
   ]
  },
  {
   "cell_type": "markdown",
   "metadata": {},
   "source": [
    "# Transform"
   ]
  },
  {
   "cell_type": "code",
   "execution_count": 6,
   "metadata": {},
   "outputs": [
    {
     "name": "stdout",
     "output_type": "stream",
     "text": [
      "       attr1  attr2\n",
      "group              \n",
      "A      19.50   12.5\n",
      "B      12.75    9.5\n"
     ]
    }
   ],
   "source": [
    "mean_by_group = df.groupby(\"group\").mean()\n",
    "print(mean_by_group)"
   ]
  },
  {
   "cell_type": "code",
   "execution_count": 35,
   "metadata": {},
   "outputs": [
    {
     "name": "stdout",
     "output_type": "stream",
     "text": [
      "          attr1     attr2\n",
      "group                    \n",
      "A      4.203173  2.081666\n",
      "B      1.707825  0.577350\n"
     ]
    }
   ],
   "source": [
    "std_by_group = df.groupby(\"group\").std()\n",
    "print(std_by_group)"
   ]
  },
  {
   "cell_type": "markdown",
   "metadata": {},
   "source": [
    "# Convert to JSON"
   ]
  },
  {
   "cell_type": "code",
   "execution_count": 34,
   "metadata": {},
   "outputs": [
    {
     "data": {
      "text/plain": [
       "'{\"A\":{\"attr1\":19.5,\"attr2\":12.5},\"B\":{\"attr1\":12.75,\"attr2\":9.5}}'"
      ]
     },
     "execution_count": 34,
     "metadata": {},
     "output_type": "execute_result"
    }
   ],
   "source": [
    "mean_by_group.to_json(orient=\"index\")"
   ]
  },
  {
   "cell_type": "code",
   "execution_count": 36,
   "metadata": {},
   "outputs": [
    {
     "data": {
      "text/plain": [
       "'{\"A\":{\"attr1\":4.2031734043,\"attr2\":2.0816659995},\"B\":{\"attr1\":1.7078251277,\"attr2\":0.5773502692}}'"
      ]
     },
     "execution_count": 36,
     "metadata": {},
     "output_type": "execute_result"
    }
   ],
   "source": [
    "std_by_group.to_json(orient=\"index\")"
   ]
  }
 ],
 "metadata": {
  "kernelspec": {
   "display_name": "env",
   "language": "python",
   "name": "python3"
  },
  "language_info": {
   "codemirror_mode": {
    "name": "ipython",
    "version": 3
   },
   "file_extension": ".py",
   "mimetype": "text/x-python",
   "name": "python",
   "nbconvert_exporter": "python",
   "pygments_lexer": "ipython3",
   "version": "3.11.4"
  },
  "orig_nbformat": 4
 },
 "nbformat": 4,
 "nbformat_minor": 2
}
